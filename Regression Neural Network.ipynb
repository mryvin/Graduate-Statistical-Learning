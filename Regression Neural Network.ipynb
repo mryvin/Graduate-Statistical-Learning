{
 "cells": [
  {
   "cell_type": "markdown",
   "id": "b0bcd83a",
   "metadata": {},
   "source": [
    "# MSDS 534: Statistical Learning - Homework 1"
   ]
  },
  {
   "cell_type": "code",
   "execution_count": 10,
   "id": "c977b969",
   "metadata": {},
   "outputs": [],
   "source": [
    "## NAME: Michael Ryvin\n",
    "\n",
    "## NET ID:  mar643"
   ]
  },
  {
   "cell_type": "markdown",
   "id": "b7df04de",
   "metadata": {},
   "source": [
    "In this problem, we analyze the `Bikeshare` dataset (details [here](https://archive.ics.uci.edu/dataset/275/bike+sharing+dataset)).\n",
    "\n",
    "The `Bikeshare` data contains the hourly and daily count of rental bikes between years 2011 and 2012 in the Capital bikeshare system in Washington D.C., along with weather and seasonal information.\n",
    "\n",
    "Our response data $\\{y_i\\}_{i=1}^n$ are the total number of bikers at each time period and our input data $\\{\\mathbf{x}_i=(x_{i1},\\dots, x_{ip})\\}_{i=1}^n$ consists of the features:\n",
    "- hour of the day\n",
    "- day of the year\n",
    "- month of the year\n",
    "- season (Winter, Spring, Summer, Fall)\n",
    "- weekday (Sun, Mon, Tues, Wed, Thurs, Fri, Sat)\n",
    "- holiday? (Yes=1, No=0)\n",
    "- workday? (Yes=1, No=0)\n",
    "- weather\n",
    "- temperature (normalized, in Celcius)\n",
    "- atemp (normalized feeling temperature, in Celcius)\n",
    "- humidity\n",
    "- windspeed\n",
    "\n",
    "Before beginning this problem, download `bikeshare.csv` from Canvas (in `Files/homeworks/hw1`). Save `bikeshare.csv` in the same directory (folder) as this Jupyter notebook.\n",
    "\n",
    "The following cell loads the packages you need for this problem and loads the `Bikeshare` data.\n",
    "\n",
    "The cell also splits the data into train and test data, stored as `numpy` objects:\n",
    "- `x_train_np` \n",
    "- `y_train_np`\n",
    "- `x_test_np` \n",
    "- `y_test_np`\n",
    "\n",
    "In this problem, we will compare different models for predicting $Y_i$ from $\\mathbf{x}_i$. Complete the questions and fill in the code where it states `[INSERT CODE]`. To grade your homeworks, we will run your completed Jupyter notebook and grade the output."
   ]
  },
  {
   "cell_type": "code",
   "execution_count": 1,
   "id": "99bede5f",
   "metadata": {},
   "outputs": [],
   "source": [
    "import numpy as np\n",
    "import pandas as pd\n",
    "import matplotlib.pyplot as plt\n",
    "from sklearn import linear_model\n",
    "import torch\n",
    "import torch.nn as nn\n",
    "import torch.nn.functional as F\n",
    "from torch import optim\n",
    "from torch.utils.data import TensorDataset, DataLoader\n",
    "from sklearn.metrics import mean_squared_error\n",
    "import random\n",
    "random.seed(10)\n",
    "torch.manual_seed(10)\n",
    "\n",
    "bike_data = pd.read_csv('bikeshare.csv')\n",
    "y = bike_data['bikers']\n",
    "x = bike_data.iloc[:, 1:]\n",
    "\n",
    "n = bike_data.shape[0]\n",
    "\n",
    "# get training and test indicies\n",
    "inds = np.random.binomial(1, 0.8, size=n)\n",
    "n_train = sum(inds)\n",
    "n_test = len(inds)-sum(inds)\n",
    "\n",
    "# turn pandas df to numpy\n",
    "x_np = x.to_numpy()\n",
    "y_np = y.to_numpy()\n",
    "\n",
    "# separate into train/test data\n",
    "x_train_np = x_np[inds==1, :]\n",
    "y_train_np = y_np[inds==1]\n",
    "x_test_np = x_np[inds==0, :]\n",
    "y_test_np = y_np[inds==0]"
   ]
  },
  {
   "cell_type": "markdown",
   "id": "25c15b7f",
   "metadata": {},
   "source": [
    "### Part 1: Poisson regression\n",
    "\n",
    "We first use a generalized linear model to fit our data. As our response is count data (i.e. number of bikes), we use a Poisson regression model:\n",
    "$$Y_i \\sim \\text{Poisson}(\\exp(\\mathbf{x}_i^T\\boldsymbol{\\beta})), \\quad \\boldsymbol{\\beta}\\in\\mathbb{R}^p, i = 1,\\dots, n.$$\n",
    "\n",
    "_Q1: Fit this Poisson regression model to `x_train_np` and `y_train_np` using `sklearn.linear_model.PoissonRegressor()`. Using the fitted model, get predictions from `x_test_np`. Print the mean squared error between predicted responses and `y_test_np`._"
   ]
  },
  {
   "cell_type": "code",
   "execution_count": 2,
   "id": "239b7cdb",
   "metadata": {},
   "outputs": [
    {
     "data": {
      "text/plain": [
       "4902.131147358657"
      ]
     },
     "execution_count": 2,
     "metadata": {},
     "output_type": "execute_result"
    }
   ],
   "source": [
    "from sklearn.linear_model import PoissonRegressor\n",
    "from sklearn.metrics import mean_squared_error\n",
    "# do poisson regression\n",
    "poisson_model = PoissonRegressor()\n",
    "\n",
    "poisson_model.fit(x_train_np, y_train_np)\n",
    "\n",
    "y_pred_poisson = poisson_model.predict(x_test_np)\n",
    "\n",
    "mse = mean_squared_error(y_test_np, y_pred_poisson)\n",
    "mse"
   ]
  },
  {
   "cell_type": "markdown",
   "id": "1eaaea96",
   "metadata": {},
   "source": [
    "_Q2: For the test data, plot predicted responses (y-axis) vs actual responses (x-axis). Your plot look similar to:_\n",
    "\n",
    "![this](poisson_linear.png)"
   ]
  },
  {
   "cell_type": "code",
   "execution_count": 3,
   "id": "061810e1",
   "metadata": {},
   "outputs": [
    {
     "data": {
      "text/plain": [
       "Text(0, 0.5, 'Predicted Y')"
      ]
     },
     "execution_count": 3,
     "metadata": {},
     "output_type": "execute_result"
    },
    {
     "data": {
      "image/png": "[encoded data removed]",
      "text/plain": [
       "<Figure size 432x288 with 1 Axes>"
      ]
     },
     "metadata": {
      "needs_background": "light"
     },
     "output_type": "display_data"
    }
   ],
   "source": [
    "# plot y vs y_hat\n",
    "mse_display = np.format_float_scientific(mse, precision=2,trim='k')\n",
    "fig, ax = plt.subplots(1, 1)\n",
    "fig.set_size_inches(6, 4)\n",
    "ax.plot(y_test_np, y_pred_poisson, '.', label=\"observed\")\n",
    "ax.set_title('Poisson Regression (Linear). MSE = ' + str(mse_display))\n",
    "ax.set_xlabel('Actual Y')\n",
    "ax.set_ylabel('Predicted Y')"
   ]
  },
  {
   "cell_type": "markdown",
   "id": "396c7530",
   "metadata": {},
   "source": [
    "## Part 2: Poisson regression using neural networks\n",
    "\n",
    "Let's now try Poisson regression, but with a neural network link function. The model is:\n",
    "\n",
    "$$Y_i \\sim \\text{Poisson}(\\exp(f(\\mathbf{x}_i, \\boldsymbol{\\theta})))$$\n",
    "where $f$ is a neural network and $\\boldsymbol{\\theta}$ are the weights and biases of the network."
   ]
  },
  {
   "cell_type": "markdown",
   "id": "e3a912b2",
   "metadata": {},
   "source": [
    "_Q1: Convert `x_train_np, y_train_np, x_test_np, y_test_np` to `torch` tensors._"
   ]
  },
  {
   "cell_type": "code",
   "execution_count": 9,
   "id": "25fc991f",
   "metadata": {},
   "outputs": [],
   "source": [
    "# convert numpy to torch tensors\n",
    "x_train = torch.tensor(x_train_np, dtype=torch.float32)\n",
    "y_train = torch.tensor(y_train_np, dtype=torch.float32)\n",
    "x_test = torch.tensor(x_test_np, dtype=torch.float32)\n",
    "y_test = torch.tensor(y_test_np, dtype=torch.float32)\n",
    "\n",
    "# make y_train n_train x 1 matrix instead of a vector (this is helpful for future calculations)\n",
    "y_train = y_train[:, None] \n",
    "y_test = y_test[:, None]"
   ]
  },
  {
   "cell_type": "markdown",
   "id": "ae016645",
   "metadata": {},
   "source": [
    "_Q2: Create a `TensorDataset` called `train_data` from the training data. Create a `DataLoader` called `train_loader` for this `train_data`. Set `batch_size=10` and `shuffle=True`._"
   ]
  },
  {
   "cell_type": "code",
   "execution_count": 10,
   "id": "bcaad5a0",
   "metadata": {},
   "outputs": [],
   "source": [
    "train_data = TensorDataset(x_train, y_train)\n",
    "train_loader = DataLoader(dataset=train_data, batch_size=10, shuffle=True)"
   ]
  },
  {
   "cell_type": "markdown",
   "id": "e84f11a5",
   "metadata": {},
   "source": [
    "_Q3: Create a neural network class called `PoissonNet` by completing in the following code. Note: the probability mass function for $Y_i$ is:_\n",
    "$$P(Y_i=y_i) = \\frac{\\exp(y_if(\\mathbf{x}_i, \\boldsymbol{\\theta}))\\exp(-e^{f(\\mathbf{x}_i, \\boldsymbol{\\theta})})}{y_i!}.$$"
   ]
  },
  {
   "cell_type": "code",
   "execution_count": 6,
   "id": "f68a040a",
   "metadata": {},
   "outputs": [],
   "source": [
    "# define the neural network\n",
    "class PoissonNet(nn.Module):\n",
    "\n",
    "    def __init__(self, input_dim, output_dim):\n",
    "        super(PoissonNet, self).__init__()\n",
    "\n",
    "        self.input_dim = input_dim\n",
    "        self.output_dim = output_dim\n",
    "        \n",
    "        # create a neural network with below hidden node dimensions and ReLU activations\n",
    "        hidden_dim = [100, 100, 50]\n",
    "\n",
    "        # Create the layers\n",
    "        self.fc1 = nn.Linear(input_dim, hidden_dim[0])\n",
    "        self.fc2 = nn.Linear(hidden_dim[0], hidden_dim[1])\n",
    "        self.fc3 = nn.Linear(hidden_dim[1], hidden_dim[2])\n",
    "        self.fc_out = nn.Linear(hidden_dim[2], self.output_dim)\n",
    "\n",
    "\n",
    "    def forward(self, x):\n",
    "\n",
    "        x = F.relu(self.fc1(x))\n",
    "        x = F.relu(self.fc2(x))\n",
    "        x = F.relu(self.fc3(x))\n",
    "        \n",
    "        lambda_pred = torch.exp(self.fc_out(x))  # Apply exponential to ensure positivity\n",
    "        return lambda_pred\n",
    "\n",
    "    def loss_fn(self, x, y):\n",
    "\n",
    "        y_pred = self.forward(x) \n",
    "        loss = y * y_pred - torch.exp(y_pred) - torch.lgamma(y + 1)\n",
    "        return -loss.sum()"
   ]
  },
  {
   "cell_type": "markdown",
   "id": "d4dafd88",
   "metadata": {},
   "source": [
    "_Q4: Fit `PoissonNet` to the training data by completing the following code._"
   ]
  },
  {
   "cell_type": "code",
   "execution_count": 7,
   "id": "da04041b",
   "metadata": {},
   "outputs": [
    {
     "name": "stdout",
     "output_type": "stream",
     "text": [
      "epoch:  0 loss: 2.89e+05\n",
      "epoch:  10 loss: 4.24e+04\n",
      "epoch:  20 loss: 3.13e+04\n",
      "epoch:  30 loss: 2.64e+04\n",
      "epoch:  40 loss: 2.46e+04\n",
      "epoch:  50 loss: 2.36e+04\n",
      "epoch:  60 loss: 2.33e+04\n",
      "epoch:  70 loss: 2.31e+04\n",
      "epoch:  80 loss: 2.25e+04\n",
      "epoch:  90 loss: 2.22e+04\n"
     ]
    }
   ],
   "source": [
    "# instantiate model\n",
    "input_dim = x_train.shape[1]\n",
    "output_dim = 1\n",
    "model = PoissonNet(input_dim=input_dim, output_dim=output_dim)\n",
    "\n",
    "lr = 0.001\n",
    "epochs = 100\n",
    "\n",
    "# create optimizer with Adam\n",
    "optimizer = optim.Adam(model.parameters(), lr=lr)\n",
    "\n",
    "# set model to training mode\n",
    "model.train()\n",
    "\n",
    "for epoch in range(epochs):\n",
    "    epoch_loss = 0\n",
    "\n",
    "    # iterate over mini-batches of the data\n",
    "    for x_batch, y_batch in train_loader:\n",
    "\n",
    "        # compute the loss for current mini-batch\n",
    "        loss = model.loss_fn(x_batch, y_batch) \n",
    "        \n",
    "        loss.backward()\n",
    "        optimizer.step()\n",
    "        optimizer.zero_grad()\n",
    "\n",
    "        epoch_loss += loss.item()\n",
    "\n",
    "    if epoch % 10 == 0:\n",
    "        print('epoch: ', epoch, 'loss:', f\"{epoch_loss:.3}\")\n"
   ]
  },
  {
   "cell_type": "markdown",
   "id": "b9ab498b",
   "metadata": {},
   "source": [
    "_Q5: For the test data, plot predicted responses (y-axis) vs actual responses (x-axis). Your plot look similar to the below image. What do you notice compared to the results from Part 1?_\n",
    "\n",
    "![this](poisson_neural.png)"
   ]
  },
  {
   "cell_type": "code",
   "execution_count": 8,
   "id": "2b7a86a5",
   "metadata": {},
   "outputs": [
    {
     "data": {
      "text/plain": [
       "Text(0, 0.5, 'Predicted Y')"
      ]
     },
     "execution_count": 8,
     "metadata": {},
     "output_type": "execute_result"
    },
    {
     "data": {
      "image/png": "[encoded data removed]",
      "text/plain": [
       "<Figure size 432x288 with 1 Axes>"
      ]
     },
     "metadata": {
      "needs_background": "light"
     },
     "output_type": "display_data"
    }
   ],
   "source": [
    "# get predictions from model \n",
    "y_pred = model(x_test)\n",
    "\n",
    "# convert y_pred back to numpy and flatten\n",
    "y_pred_np = torch.flatten(y_pred).detach().numpy()\n",
    "\n",
    "y_pred_np = np.exp(y_pred_np)\n",
    "\n",
    "mse = mean_squared_error(y_test_np, y_pred_np)\n",
    "\n",
    "mse_display = np.format_float_scientific(mse, precision=2,trim='k')\n",
    "\n",
    "fig, ax = plt.subplots(1, 1)\n",
    "fig.set_size_inches(6, 4)\n",
    "ax.plot(y_test_np, y_pred_np, '.', label=\"observed\")\n",
    "ax.set_title('Poisson Regression (Neural Network). MSE = ' + str(mse_display))\n",
    "ax.set_xlabel('Actual Y')\n",
    "ax.set_ylabel('Predicted Y')"
   ]
  },
  {
   "cell_type": "markdown",
   "id": "596c0509",
   "metadata": {},
   "source": [
    "## Part 3: Negative binomial regression using neural networks\n",
    "\n",
    "For the Poisson distribution, the mean = the variance. This may not be a good assumption. A more flexible count model for $Y_i$ is the negative binomial distribution. In this section, we fit a negative binomial neural network model to the data.\n",
    "\n",
    "_Q1: Create a neural network class called `NBNet` by completing the following code._\n",
    "\n",
    "Note that the negative binomial probability mass function is:\n",
    "$$P(Y_i=y_i) = \\frac{\\Gamma(y_i + r(\\mathbf{x}_i,\\boldsymbol{\\theta}))}{y_i!\\Gamma(r(\\mathbf{x_i},\\boldsymbol{\\theta}))}[1-p(\\mathbf{x}_i,\\boldsymbol{\\theta})]^{y_i} [p(\\mathbf{x}_i,\\boldsymbol{\\theta})]^{r(\\mathbf{x_i},\\boldsymbol{\\theta})}.$$\n",
    "\n",
    "We also have $$\\mathbb{E}[Y_i|\\mathbf{x}_i] = \\frac{r(\\mathbf{x}_i,\\boldsymbol{\\theta})[1- p(\\mathbf{x}_i,\\boldsymbol{\\theta})]}{p(\\mathbf{x}_i,\\boldsymbol{\\theta})}.$$\n",
    "\n",
    "Helpful `torch` functions:\n",
    "- `torch.lgamma`: computes log of $\\Gamma$ function"
   ]
  },
  {
   "cell_type": "code",
   "execution_count": 11,
   "id": "50226d1a",
   "metadata": {},
   "outputs": [],
   "source": [
    "class NBNet(nn.Module):\n",
    "\n",
    "    def __init__(self, input_dim, output_dim):\n",
    "        super(NBNet, self).__init__()\n",
    "        self.input_dim = input_dim\n",
    "        self.output_dim = output_dim\n",
    "\n",
    "        hidden_dim = [100, 100]\n",
    "        r_dim = [50]\n",
    "        p_dim = [50]\n",
    "\n",
    "        # create backbone\n",
    "        current_dim = input_dim\n",
    "        self.layers = nn.ModuleList()\n",
    "        for i in hidden_dim:\n",
    "            hdim = i\n",
    "            self.layers.append(nn.Linear(current_dim, hdim))\n",
    "            current_dim = hdim\n",
    "\n",
    "        # create r head\n",
    "        core_dim = hidden_dim[-1]\n",
    "        current_dim = core_dim\n",
    "        self.r_layers = nn.ModuleList()\n",
    "        for i in range(len(r_dim)):\n",
    "            hdim = r_dim[i]\n",
    "            self.r_layers.append(nn.Linear(current_dim, hdim))\n",
    "            current_dim = hdim\n",
    "        self.r_layers.append(nn.Linear(current_dim, 1))\n",
    "\n",
    "        # create p head\n",
    "        current_dim = core_dim\n",
    "        self.p_layers = nn.ModuleList()\n",
    "        for i in p_dim:\n",
    "            hdim = i\n",
    "            self.p_layers.append(nn.Linear(current_dim, hdim))\n",
    "            current_dim = hdim\n",
    "        self.p_layers.append(nn.Linear(current_dim, 1))\n",
    "\n",
    "    def core_net(self, x):\n",
    "        for layer in self.layers:\n",
    "            x = F.relu(layer(x))\n",
    "        return x\n",
    "\n",
    "    def r_net(self, x):\n",
    "\n",
    "        for layer in self.r_layers[:-1]:\n",
    "            x = F.relu(layer(x))\n",
    "\n",
    "        out = torch.exp(self.r_layers[-1](x)) ## r needs to be > 0\n",
    "        return out\n",
    "\n",
    "    def p_net(self, x):\n",
    "\n",
    "        for layer in self.p_layers[:-1]:\n",
    "            x = F.relu(layer(x))\n",
    "\n",
    "        out = F.sigmoid(self.p_layers[-1](x)) ## p needs to be [0,1]\n",
    "        return out\n",
    "\n",
    "    def forward(self, x):\n",
    "        r = self.r_net(self.core_net(x))\n",
    "        p = self.p_net(self.core_net(x))\n",
    "\n",
    "        return r, p\n",
    "\n",
    "    def loss_fn(self, x, y):\n",
    "        r, p = self.forward(x)\n",
    "        \n",
    "        logR_factorial = torch.lgamma(y + r) - (torch.lgamma(y + 1) + torch.lgamma(r))\n",
    "        logP = torch.log(1 - p)\n",
    "        logP1 = torch.log(p)\n",
    "        \n",
    "        out = -torch.mean(logR_factorial + (y * logP) + (r * logP1))\n",
    "\n",
    "        return out"
   ]
  },
  {
   "cell_type": "markdown",
   "id": "e4ae4eba",
   "metadata": {},
   "source": [
    "_Q2: Fit `NBNet` to the data by completing the following code._"
   ]
  },
  {
   "cell_type": "code",
   "execution_count": 12,
   "id": "43476487",
   "metadata": {},
   "outputs": [
    {
     "name": "stdout",
     "output_type": "stream",
     "text": [
      "epoch:  0 loss: 6.3e+03\n",
      "epoch:  10 loss: 2.83e+03\n",
      "epoch:  20 loss: 2.56e+03\n",
      "epoch:  30 loss: 2.43e+03\n",
      "epoch:  40 loss: 2.37e+03\n",
      "epoch:  50 loss: 2.33e+03\n",
      "epoch:  60 loss: 2.29e+03\n",
      "epoch:  70 loss: 2.27e+03\n",
      "epoch:  80 loss: 2.26e+03\n",
      "epoch:  90 loss: 2.23e+03\n"
     ]
    }
   ],
   "source": [
    "# instantiate NBNet\n",
    "\n",
    "input_dim = x_train.shape[1]\n",
    "output_dim = 1\n",
    "\n",
    "model = NBNet(input_dim=input_dim, output_dim=output_dim)\n",
    "\n",
    "lr = 0.001\n",
    "epochs = 100\n",
    "\n",
    "# create optimizer with Adam\n",
    "optimizer = optim.Adam(model.parameters(), lr=lr)\n",
    "\n",
    "# set model to training mode\n",
    "model.train()\n",
    "\n",
    "for epoch in range(epochs):\n",
    "    epoch_loss = 0\n",
    "\n",
    "    # iterate over mini-batches of the data\n",
    "    for batch_x, batch_y in train_loader:\n",
    "\n",
    "        # compute the loss for current mini-batch\n",
    "        loss = model.loss_fn(batch_x, batch_y)\n",
    "        \n",
    "        # take gradient\n",
    "        loss.backward()\n",
    "        # update parameters\n",
    "        optimizer.step()\n",
    "        # reset gradients to zero\n",
    "        optimizer.zero_grad()\n",
    "\n",
    "        epoch_loss += loss.item()\n",
    "\n",
    "    if epoch % 10 == 0:\n",
    "        print('epoch: ', epoch, 'loss:', f\"{epoch_loss:.3}\")\n"
   ]
  },
  {
   "cell_type": "markdown",
   "id": "d2d2211c",
   "metadata": {},
   "source": [
    "_Q3: Plot predicted responses (y-axis) vs actual responses (x-axis). Your plot look similar to the below image. What do you notice compared to the results from Parts 1 and 2?_\n",
    "\n",
    "![this](neg_binom.png)"
   ]
  },
  {
   "cell_type": "code",
   "execution_count": 14,
   "id": "d60d02a7",
   "metadata": {},
   "outputs": [
    {
     "data": {
      "text/plain": [
       "Text(0, 0.5, 'Predicted Y')"
      ]
     },
     "execution_count": 14,
     "metadata": {},
     "output_type": "execute_result"
    },
    {
     "data": {
      "image/png": "[encoded data removed]",
      "text/plain": [
       "<Figure size 432x288 with 1 Axes>"
      ]
     },
     "metadata": {
      "needs_background": "light"
     },
     "output_type": "display_data"
    }
   ],
   "source": [
    "# get predictions from model \n",
    "with torch.no_grad():\n",
    "    x_test_tensor = torch.tensor(x_test_np, dtype=torch.float32)\n",
    "    y_pred_r, y_pred_p = model(x_test_tensor)\n",
    "    y_pred = y_pred_r * (1 - y_pred_p)\n",
    "\n",
    "# convert y_pred back to numpy and flatten\n",
    "y_pred_np = torch.flatten(y_pred).detach().numpy()\n",
    "\n",
    "mse = mean_squared_error(y_test_np, y_pred_np)\n",
    "\n",
    "mse_display = np.format_float_scientific(mse, precision=2,trim='k')\n",
    "\n",
    "fig, ax = plt.subplots(1, 1)\n",
    "fig.set_size_inches(6, 4)\n",
    "ax.plot(y_test_np, y_pred_np, '.', label=\"observed\")\n",
    "ax.set_title('Negative Binomial Regression (Neural Network). MSE = ' + str(mse_display))\n",
    "ax.set_xlabel('Actual Y')\n",
    "ax.set_ylabel('Predicted Y')"
   ]
  },
  {
   "cell_type": "code",
   "execution_count": null,
   "id": "982d8da4-3087-4f88-a078-c1c8fe919cb4",
   "metadata": {},
   "outputs": [],
   "source": []
  },
  {
   "cell_type": "code",
   "execution_count": null,
   "id": "bc8258c9-3175-4ee4-ac1b-902e60e4826e",
   "metadata": {},
   "outputs": [],
   "source": []
  },
  {
   "cell_type": "code",
   "execution_count": null,
   "id": "e1f2099d-de99-43a8-8a2c-b37f1a0c1020",
   "metadata": {},
   "outputs": [],
   "source": []
  },
  {
   "cell_type": "code",
   "execution_count": null,
   "id": "36420848-5551-4040-88b7-0e2966570a2d",
   "metadata": {},
   "outputs": [],
   "source": []
  },
  {
   "cell_type": "code",
   "execution_count": null,
   "id": "d2e13660-a092-43e7-952c-632c811a2339",
   "metadata": {},
   "outputs": [],
   "source": []
  }
 ],
 "metadata": {
  "kernelspec": {
   "display_name": "Python 3",
   "language": "python",
   "name": "python3"
  },
  "language_info": {
   "codemirror_mode": {
    "name": "ipython",
    "version": 3
   },
   "file_extension": ".py",
   "mimetype": "text/x-python",
   "name": "python",
   "nbconvert_exporter": "python",
   "pygments_lexer": "ipython3",
   "version": "3.8.8"
  }
 },
 "nbformat": 4,
 "nbformat_minor": 5
}
